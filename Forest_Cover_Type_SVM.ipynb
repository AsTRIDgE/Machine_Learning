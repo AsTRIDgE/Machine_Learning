{
  "nbformat": 4,
  "nbformat_minor": 0,
  "metadata": {
    "colab": {
      "name": "Forest Cover Type-SVM.ipynb",
      "version": "0.3.2",
      "provenance": [],
      "collapsed_sections": [],
      "include_colab_link": true
    },
    "kernelspec": {
      "name": "python3",
      "display_name": "Python 3"
    },
    "accelerator": "TPU"
  },
  "cells": [
    {
      "cell_type": "markdown",
      "metadata": {
        "id": "view-in-github",
        "colab_type": "text"
      },
      "source": [
        "<a href=\"https://colab.research.google.com/github/AsTRIDgE/Machine_Learning/blob/master/Forest_Cover_Type_SVM.ipynb\" target=\"_parent\"><img src=\"https://colab.research.google.com/assets/colab-badge.svg\" alt=\"Open In Colab\"/></a>"
      ]
    },
    {
      "cell_type": "markdown",
      "metadata": {
        "id": "idu8NKQnXlGF",
        "colab_type": "text"
      },
      "source": [
        "#Forest Cover Type - Kaggle Dataset"
      ]
    },
    {
      "cell_type": "code",
      "metadata": {
        "id": "hBIH7g7D_Bq8",
        "colab_type": "code",
        "outputId": "3533d1c1-ac75-4af4-867d-f691757ba198",
        "colab": {
          "base_uri": "https://localhost:8080/",
          "height": 193
        }
      },
      "source": [
        "#Dataset from kaggle\n",
        "#Classification Problem\n",
        "\n",
        "!pip install -U -q PyDrive\n",
        "from pydrive.auth import GoogleAuth\n",
        "from pydrive.drive import GoogleDrive\n",
        "from google.colab import auth\n",
        "from oauth2client.client import GoogleCredentials\n",
        "\n",
        "# Authenticate and create the PyDrive client.\n",
        "auth.authenticate_user()\n",
        "gauth = GoogleAuth()\n",
        "gauth.credentials = GoogleCredentials.get_application_default()\n",
        "drive = GoogleDrive(gauth)\n",
        "link = 'https://drive.google.com/open?id=1Jyi1mfRnh73qgpOYpiE1RwRDzDDZA_EU'\n",
        "\n",
        "fluff, id = link.split('=')\n",
        "print (id)\n",
        "\n",
        "downloaded = drive.CreateFile({'id':id})\n",
        "downloaded.GetContentFile('covtype.csv') \n"
      ],
      "execution_count": 1,
      "outputs": [
        {
          "output_type": "stream",
          "text": [
            "\u001b[?25l\r\u001b[K     |▎                               | 10kB 16.0MB/s eta 0:00:01\r\u001b[K     |▋                               | 20kB 2.4MB/s eta 0:00:01\r\u001b[K     |█                               | 30kB 3.3MB/s eta 0:00:01\r\u001b[K     |█▎                              | 40kB 2.2MB/s eta 0:00:01\r\u001b[K     |█▋                              | 51kB 2.7MB/s eta 0:00:01\r\u001b[K     |██                              | 61kB 3.2MB/s eta 0:00:01\r\u001b[K     |██▎                             | 71kB 3.7MB/s eta 0:00:01\r\u001b[K     |██▋                             | 81kB 4.2MB/s eta 0:00:01\r\u001b[K     |███                             | 92kB 4.7MB/s eta 0:00:01\r\u001b[K     |███▎                            | 102kB 3.6MB/s eta 0:00:01\r\u001b[K     |███▋                            | 112kB 3.6MB/s eta 0:00:01\r\u001b[K     |████                            | 122kB 3.6MB/s eta 0:00:01\r\u001b[K     |████▎                           | 133kB 3.6MB/s eta 0:00:01\r\u001b[K     |████▋                           | 143kB 3.6MB/s eta 0:00:01\r\u001b[K     |█████                           | 153kB 3.6MB/s eta 0:00:01\r\u001b[K     |█████▎                          | 163kB 3.6MB/s eta 0:00:01\r\u001b[K     |█████▋                          | 174kB 3.6MB/s eta 0:00:01\r\u001b[K     |██████                          | 184kB 3.6MB/s eta 0:00:01\r\u001b[K     |██████▎                         | 194kB 3.6MB/s eta 0:00:01\r\u001b[K     |██████▋                         | 204kB 3.6MB/s eta 0:00:01\r\u001b[K     |███████                         | 215kB 3.6MB/s eta 0:00:01\r\u001b[K     |███████▎                        | 225kB 3.6MB/s eta 0:00:01\r\u001b[K     |███████▋                        | 235kB 3.6MB/s eta 0:00:01\r\u001b[K     |████████                        | 245kB 3.6MB/s eta 0:00:01\r\u001b[K     |████████▎                       | 256kB 3.6MB/s eta 0:00:01\r\u001b[K     |████████▋                       | 266kB 3.6MB/s eta 0:00:01\r\u001b[K     |█████████                       | 276kB 3.6MB/s eta 0:00:01\r\u001b[K     |█████████▎                      | 286kB 3.6MB/s eta 0:00:01\r\u001b[K     |█████████▋                      | 296kB 3.6MB/s eta 0:00:01\r\u001b[K     |██████████                      | 307kB 3.6MB/s eta 0:00:01\r\u001b[K     |██████████▎                     | 317kB 3.6MB/s eta 0:00:01\r\u001b[K     |██████████▋                     | 327kB 3.6MB/s eta 0:00:01\r\u001b[K     |███████████                     | 337kB 3.6MB/s eta 0:00:01\r\u001b[K     |███████████▎                    | 348kB 3.6MB/s eta 0:00:01\r\u001b[K     |███████████▋                    | 358kB 3.6MB/s eta 0:00:01\r\u001b[K     |████████████                    | 368kB 3.6MB/s eta 0:00:01\r\u001b[K     |████████████▎                   | 378kB 3.6MB/s eta 0:00:01\r\u001b[K     |████████████▋                   | 389kB 3.6MB/s eta 0:00:01\r\u001b[K     |█████████████                   | 399kB 3.6MB/s eta 0:00:01\r\u001b[K     |█████████████▎                  | 409kB 3.6MB/s eta 0:00:01\r\u001b[K     |█████████████▋                  | 419kB 3.6MB/s eta 0:00:01\r\u001b[K     |██████████████                  | 430kB 3.6MB/s eta 0:00:01\r\u001b[K     |██████████████▎                 | 440kB 3.6MB/s eta 0:00:01\r\u001b[K     |██████████████▋                 | 450kB 3.6MB/s eta 0:00:01\r\u001b[K     |███████████████                 | 460kB 3.6MB/s eta 0:00:01\r\u001b[K     |███████████████▎                | 471kB 3.6MB/s eta 0:00:01\r\u001b[K     |███████████████▋                | 481kB 3.6MB/s eta 0:00:01\r\u001b[K     |████████████████                | 491kB 3.6MB/s eta 0:00:01\r\u001b[K     |████████████████▎               | 501kB 3.6MB/s eta 0:00:01\r\u001b[K     |████████████████▋               | 512kB 3.6MB/s eta 0:00:01\r\u001b[K     |█████████████████               | 522kB 3.6MB/s eta 0:00:01\r\u001b[K     |█████████████████▎              | 532kB 3.6MB/s eta 0:00:01\r\u001b[K     |█████████████████▋              | 542kB 3.6MB/s eta 0:00:01\r\u001b[K     |██████████████████              | 552kB 3.6MB/s eta 0:00:01\r\u001b[K     |██████████████████▎             | 563kB 3.6MB/s eta 0:00:01\r\u001b[K     |██████████████████▋             | 573kB 3.6MB/s eta 0:00:01\r\u001b[K     |███████████████████             | 583kB 3.6MB/s eta 0:00:01\r\u001b[K     |███████████████████▎            | 593kB 3.6MB/s eta 0:00:01\r\u001b[K     |███████████████████▋            | 604kB 3.6MB/s eta 0:00:01\r\u001b[K     |████████████████████            | 614kB 3.6MB/s eta 0:00:01\r\u001b[K     |████████████████████▎           | 624kB 3.6MB/s eta 0:00:01\r\u001b[K     |████████████████████▋           | 634kB 3.6MB/s eta 0:00:01\r\u001b[K     |█████████████████████           | 645kB 3.6MB/s eta 0:00:01\r\u001b[K     |█████████████████████▎          | 655kB 3.6MB/s eta 0:00:01\r\u001b[K     |█████████████████████▋          | 665kB 3.6MB/s eta 0:00:01\r\u001b[K     |██████████████████████          | 675kB 3.6MB/s eta 0:00:01\r\u001b[K     |██████████████████████▎         | 686kB 3.6MB/s eta 0:00:01\r\u001b[K     |██████████████████████▋         | 696kB 3.6MB/s eta 0:00:01\r\u001b[K     |███████████████████████         | 706kB 3.6MB/s eta 0:00:01\r\u001b[K     |███████████████████████▎        | 716kB 3.6MB/s eta 0:00:01\r\u001b[K     |███████████████████████▋        | 727kB 3.6MB/s eta 0:00:01\r\u001b[K     |████████████████████████        | 737kB 3.6MB/s eta 0:00:01\r\u001b[K     |████████████████████████▎       | 747kB 3.6MB/s eta 0:00:01\r\u001b[K     |████████████████████████▋       | 757kB 3.6MB/s eta 0:00:01\r\u001b[K     |████████████████████████▉       | 768kB 3.6MB/s eta 0:00:01\r\u001b[K     |█████████████████████████▏      | 778kB 3.6MB/s eta 0:00:01\r\u001b[K     |█████████████████████████▌      | 788kB 3.6MB/s eta 0:00:01\r\u001b[K     |█████████████████████████▉      | 798kB 3.6MB/s eta 0:00:01\r\u001b[K     |██████████████████████████▏     | 808kB 3.6MB/s eta 0:00:01\r\u001b[K     |██████████████████████████▌     | 819kB 3.6MB/s eta 0:00:01\r\u001b[K     |██████████████████████████▉     | 829kB 3.6MB/s eta 0:00:01\r\u001b[K     |███████████████████████████▏    | 839kB 3.6MB/s eta 0:00:01\r\u001b[K     |███████████████████████████▌    | 849kB 3.6MB/s eta 0:00:01\r\u001b[K     |███████████████████████████▉    | 860kB 3.6MB/s eta 0:00:01\r\u001b[K     |████████████████████████████▏   | 870kB 3.6MB/s eta 0:00:01\r\u001b[K     |████████████████████████████▌   | 880kB 3.6MB/s eta 0:00:01\r\u001b[K     |████████████████████████████▉   | 890kB 3.6MB/s eta 0:00:01\r\u001b[K     |█████████████████████████████▏  | 901kB 3.6MB/s eta 0:00:01\r\u001b[K     |█████████████████████████████▌  | 911kB 3.6MB/s eta 0:00:01\r\u001b[K     |█████████████████████████████▉  | 921kB 3.6MB/s eta 0:00:01\r\u001b[K     |██████████████████████████████▏ | 931kB 3.6MB/s eta 0:00:01\r\u001b[K     |██████████████████████████████▌ | 942kB 3.6MB/s eta 0:00:01\r\u001b[K     |██████████████████████████████▉ | 952kB 3.6MB/s eta 0:00:01\r\u001b[K     |███████████████████████████████▏| 962kB 3.6MB/s eta 0:00:01\r\u001b[K     |███████████████████████████████▌| 972kB 3.6MB/s eta 0:00:01\r\u001b[K     |███████████████████████████████▉| 983kB 3.6MB/s eta 0:00:01\r\u001b[K     |████████████████████████████████| 993kB 3.6MB/s \n",
            "\u001b[?25h  Building wheel for PyDrive (setup.py) ... \u001b[?25l\u001b[?25hdone\n",
            "\n",
            "WARNING: The TensorFlow contrib module will not be included in TensorFlow 2.0.\n",
            "For more information, please see:\n",
            "  * https://github.com/tensorflow/community/blob/master/rfcs/20180907-contrib-sunset.md\n",
            "  * https://github.com/tensorflow/addons\n",
            "If you depend on functionality not listed there, please file an issue.\n",
            "\n",
            "1Jyi1mfRnh73qgpOYpiE1RwRDzDDZA_EU\n"
          ],
          "name": "stdout"
        }
      ]
    },
    {
      "cell_type": "code",
      "metadata": {
        "id": "OiQrtMTTkqQK",
        "colab_type": "code",
        "colab": {}
      },
      "source": [
        "import pandas as pd\n",
        "data = pd.read_csv('covtype.csv')"
      ],
      "execution_count": 0,
      "outputs": []
    },
    {
      "cell_type": "code",
      "metadata": {
        "id": "QRa3OQ5C_SbW",
        "colab_type": "code",
        "outputId": "fd135403-e25d-4ce6-ff6d-81e3eaa07260",
        "colab": {
          "base_uri": "https://localhost:8080/",
          "height": 34
        }
      },
      "source": [
        "import numpy as np\n",
        "#Using features with low corelation\n",
        "\n",
        "corr = data.corr()\n",
        "columns = np.full((corr.shape[0],), True, dtype=bool)\n",
        "for i in range(corr.shape[0]):\n",
        "    for j in range(i+1,corr.shape[0]):\n",
        "        if corr.iloc[i,j]>=0.5:\n",
        "            if columns[j]:\n",
        "                columns[j]=False\n",
        "selected_columns = data.columns[columns]\n",
        "data=data[selected_columns]\n",
        "l = len(selected_columns) -1\n",
        "print(l)\n"
      ],
      "execution_count": 100,
      "outputs": [
        {
          "output_type": "stream",
          "text": [
            "51\n"
          ],
          "name": "stdout"
        }
      ]
    },
    {
      "cell_type": "code",
      "metadata": {
        "id": "t-2uQDgriYtx",
        "colab_type": "code",
        "colab": {}
      },
      "source": [
        "X=data.iloc[0:100000,0:l] #Selecting samples out of 5 lakhs+ samples\n",
        "y=data.iloc[0:100000,l]"
      ],
      "execution_count": 0,
      "outputs": []
    },
    {
      "cell_type": "code",
      "metadata": {
        "id": "D2nywmvcZesz",
        "colab_type": "code",
        "outputId": "39f30d76-fdcd-4b86-a996-8bf6936d55b7",
        "colab": {
          "base_uri": "https://localhost:8080/",
          "height": 90
        }
      },
      "source": [
        "from sklearn.svm import LinearSVC\n",
        "from sklearn.feature_selection import SelectFromModel\n",
        "\n",
        "lsvc = LinearSVC(C=0.01, penalty=\"l1\", dual=False).fit(X, y)\n",
        "model = SelectFromModel(lsvc, prefit=True)\n",
        "X_new = model.transform(X)\n",
        "print(X_new.shape)"
      ],
      "execution_count": 102,
      "outputs": [
        {
          "output_type": "stream",
          "text": [
            "(100000, 40)\n"
          ],
          "name": "stdout"
        },
        {
          "output_type": "stream",
          "text": [
            "/usr/local/lib/python3.6/dist-packages/sklearn/svm/base.py:931: ConvergenceWarning: Liblinear failed to converge, increase the number of iterations.\n",
            "  \"the number of iterations.\", ConvergenceWarning)\n"
          ],
          "name": "stderr"
        }
      ]
    },
    {
      "cell_type": "code",
      "metadata": {
        "id": "NDn9F56xiyEU",
        "colab_type": "code",
        "colab": {}
      },
      "source": [
        "from sklearn.model_selection import train_test_split\n",
        "X_train , X_test, Y_train, Y_test = train_test_split(X_new,y,test_size=0.2, random_state=1, stratify=y)"
      ],
      "execution_count": 0,
      "outputs": []
    },
    {
      "cell_type": "code",
      "metadata": {
        "id": "ly5DJwVb_f3a",
        "colab_type": "code",
        "outputId": "87fdebbb-c1b8-4b1f-aac9-12a895660f0a",
        "colab": {
          "base_uri": "https://localhost:8080/",
          "height": 178
        }
      },
      "source": [
        "#Normalising \n",
        "from sklearn.preprocessing import StandardScaler\n",
        "\n",
        "sc = StandardScaler()              \n",
        "X_train_std = sc.fit_transform(X_train)         #standardized feature\n",
        "X_test_std = sc.fit_transform(X_test)"
      ],
      "execution_count": 104,
      "outputs": [
        {
          "output_type": "stream",
          "text": [
            "/usr/local/lib/python3.6/dist-packages/sklearn/utils/validation.py:595: DataConversionWarning: Data with input dtype int64 was converted to float64 by StandardScaler.\n",
            "  warnings.warn(msg, DataConversionWarning)\n",
            "/usr/local/lib/python3.6/dist-packages/sklearn/utils/validation.py:595: DataConversionWarning: Data with input dtype int64 was converted to float64 by StandardScaler.\n",
            "  warnings.warn(msg, DataConversionWarning)\n",
            "/usr/local/lib/python3.6/dist-packages/sklearn/utils/validation.py:595: DataConversionWarning: Data with input dtype int64 was converted to float64 by StandardScaler.\n",
            "  warnings.warn(msg, DataConversionWarning)\n",
            "/usr/local/lib/python3.6/dist-packages/sklearn/utils/validation.py:595: DataConversionWarning: Data with input dtype int64 was converted to float64 by StandardScaler.\n",
            "  warnings.warn(msg, DataConversionWarning)\n"
          ],
          "name": "stderr"
        }
      ]
    },
    {
      "cell_type": "code",
      "metadata": {
        "id": "EXEpmmOgAZyq",
        "colab_type": "code",
        "colab": {
          "base_uri": "https://localhost:8080/",
          "height": 34
        },
        "outputId": "63cc20f3-c0e5-4626-fbf0-3bfbc3c7bf05"
      },
      "source": [
        "from sklearn import metrics\n",
        "\n",
        "lsvc.fit(X_train_std , Y_train)\n",
        "Y_predict = lsvc.predict(X_test_std)                        #predicting output for test case\n",
        "print(metrics.f1_score(Y_test, Y_predict, average='micro'))"
      ],
      "execution_count": 105,
      "outputs": [
        {
          "output_type": "stream",
          "text": [
            "0.8098499999999998\n"
          ],
          "name": "stdout"
        }
      ]
    },
    {
      "cell_type": "code",
      "metadata": {
        "id": "33bmW9lyrEL9",
        "colab_type": "code",
        "colab": {}
      },
      "source": [
        ""
      ],
      "execution_count": 0,
      "outputs": []
    }
  ]
}