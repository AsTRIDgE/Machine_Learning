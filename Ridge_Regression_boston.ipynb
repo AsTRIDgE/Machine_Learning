{
  "nbformat": 4,
  "nbformat_minor": 0,
  "metadata": {
    "colab": {
      "name": "Ridge Regression_boston.ipynb",
      "version": "0.3.2",
      "provenance": [],
      "collapsed_sections": [],
      "include_colab_link": true
    },
    "kernelspec": {
      "name": "python3",
      "display_name": "Python 3"
    }
  },
  "cells": [
    {
      "cell_type": "markdown",
      "metadata": {
        "id": "view-in-github",
        "colab_type": "text"
      },
      "source": [
        "<a href=\"https://colab.research.google.com/github/AsTRIDgE/Machine_Learning/blob/master/Ridge_Regression_boston.ipynb\" target=\"_parent\"><img src=\"https://colab.research.google.com/assets/colab-badge.svg\" alt=\"Open In Colab\"/></a>"
      ]
    },
    {
      "cell_type": "markdown",
      "metadata": {
        "id": "r68WEFXhyMmq",
        "colab_type": "text"
      },
      "source": [
        "#Ridge Regression on Boston dataset"
      ]
    },
    {
      "cell_type": "code",
      "metadata": {
        "id": "bpxYUNox_hGF",
        "colab_type": "code",
        "colab": {}
      },
      "source": [
        "import numpy as np\n",
        "import matplotlib.pyplot as plt\n",
        "from sklearn.linear_model import LinearRegression"
      ],
      "execution_count": 0,
      "outputs": []
    },
    {
      "cell_type": "code",
      "metadata": {
        "id": "r2xMlf2F_rlB",
        "colab_type": "code",
        "colab": {}
      },
      "source": [
        "from sklearn.linear_model import Ridge\n",
        "from sklearn.datasets import load_boston              #boston house price dataset\n",
        "#from sklearn.datasets import fetch_california_housing\n",
        "from sklearn import metrics                           #accuracy,model evaluation,R2 score\n",
        "from sklearn.model_selection import train_test_split#for train and test data split up\n",
        "from sklearn import preprocessing                   #preprocessing module"
      ],
      "execution_count": 0,
      "outputs": []
    },
    {
      "cell_type": "code",
      "metadata": {
        "id": "pqR6nKWj_vOH",
        "colab_type": "code",
        "colab": {}
      },
      "source": [
        "data_boston = load_boston()\n",
        "X=data_boston.data\n",
        "Y=data_boston.target"
      ],
      "execution_count": 0,
      "outputs": []
    },
    {
      "cell_type": "code",
      "metadata": {
        "id": "VqzAi3gNBGll",
        "colab_type": "code",
        "colab": {}
      },
      "source": [
        "X_train,X_test,Y_train,Y_test=train_test_split(X,Y,test_size=0.33,random_state=42)"
      ],
      "execution_count": 0,
      "outputs": []
    },
    {
      "cell_type": "code",
      "metadata": {
        "id": "2m_RHwWfFhsY",
        "colab_type": "code",
        "colab": {}
      },
      "source": [
        "model=LinearRegression()\n",
        "X_train=X_train[:,5]"
      ],
      "execution_count": 0,
      "outputs": []
    },
    {
      "cell_type": "code",
      "metadata": {
        "id": "Kg_SzYMgGElH",
        "colab_type": "code",
        "colab": {}
      },
      "source": [
        "X_train=X_train.reshape(-1,1)\n",
        "model.fit(X_train,Y_train)\n",
        "X_test=X_test[:,5]\n",
        "X_test=X_test.reshape(-1,1)\n",
        "Y_pred=model.predict(X_test)\n"
      ],
      "execution_count": 0,
      "outputs": []
    },
    {
      "cell_type": "code",
      "metadata": {
        "id": "LckfzMc2aJuS",
        "colab_type": "code",
        "outputId": "082dd49a-6f7b-4f7b-f2c1-0e19895776da",
        "colab": {
          "base_uri": "https://localhost:8080/",
          "height": 348
        }
      },
      "source": [
        "plt.title(\"Linear Regression on Boston house price data\")\n",
        "plt.xlabel(\"CRIS Value\")\n",
        "plt.ylabel(\"House price\")\n",
        "plt.scatter(X_test,Y_test,color = 'red',s=8)\n",
        "plt.plot(X_test,Y_pred, color = 'green')\n",
        "plt.show()\n",
        "print('\\tRed dotes indicate the actual values in the test set')\n",
        "print('\\tGreen line denotes the predicted regression line\\n')"
      ],
      "execution_count": 7,
      "outputs": [
        {
          "output_type": "display_data",
          "data": {
            "image/png": "[encoded data removed]",
            "text/plain": [
              "<Figure size 432x288 with 1 Axes>"
            ]
          },
          "metadata": {
            "tags": []
          }
        },
        {
          "output_type": "stream",
          "text": [
            "\tRed dotes indicate the actual values in the test set\n",
            "\tGreen line denotes the predicted regression line\n",
            "\n"
          ],
          "name": "stdout"
        }
      ]
    },
    {
      "cell_type": "code",
      "metadata": {
        "id": "8sgiVpA6aNGu",
        "colab_type": "code",
        "outputId": "d98b20a4-953f-41a4-e082-b37b2e42dc31",
        "colab": {
          "base_uri": "https://localhost:8080/",
          "height": 52
        }
      },
      "source": [
        "print(\"\\tMean_absolute_error :\",metrics.mean_absolute_error(Y_test, Y_pred))\n",
        "print(\"\\tMean_squared_error :\",metrics.mean_squared_error(Y_test, Y_pred))\n"
      ],
      "execution_count": 8,
      "outputs": [
        {
          "output_type": "stream",
          "text": [
            "\tMean_absolute_error : 4.271512885857222\n",
            "\tMean_squared_error : 39.091051114869956\n"
          ],
          "name": "stdout"
        }
      ]
    },
    {
      "cell_type": "code",
      "metadata": {
        "id": "Db9aGQxXaenW",
        "colab_type": "code",
        "colab": {}
      },
      "source": [
        "ridgeReg = Ridge(alpha=0.05, normalize=True)\n"
      ],
      "execution_count": 0,
      "outputs": []
    },
    {
      "cell_type": "code",
      "metadata": {
        "id": "Skb5kTuiagAA",
        "colab_type": "code",
        "outputId": "31d23380-bdc2-4965-fa30-3ad96a347e52",
        "colab": {
          "base_uri": "https://localhost:8080/",
          "height": 418
        }
      },
      "source": [
        "#Train the Ridge object using X_train and y_train\n",
        "ridgeReg.fit(X_train,Y_train)\n",
        "Y_pred= ridgeReg.predict(X_test)\n",
        "#Put title\n",
        "plt.title(\"Ridge Regression on Boston house price data\")\n",
        "#Put label in x axis\n",
        "plt.xlabel(\"CRIS Value\")\n",
        "#Put label in y axis\n",
        "plt.ylabel(\"House price\")\n",
        "#Scatter the correct values with features in the test set\n",
        "plt.scatter(X_test,Y_test,color = 'red',s=8)\n",
        "#Plot the predicted values with features in the test set\n",
        "plt.plot(X_test,ridgeReg.predict(X_test), color = 'green')\n",
        "plt.show()\n",
        "print('\\tRed dots indicate the actual values in the test set')\n",
        "print('\\tGreen line denotes the predicted regression line\\n')\n",
        "print(\"\\tMean_absolute_error :\",metrics.mean_absolute_error(Y_test, Y_pred))\n",
        "print(\"\\tMean_squared_error :\",metrics.mean_squared_error(Y_test, Y_pred))\n",
        "print(\"\\tRoot mean_squared_error :\",np.sqrt(metrics.mean_squared_error(Y_test, Y_pred)))\n",
        "print(\"\\tR-squared measure :\",metrics.r2_score(Y_test, Y_pred))"
      ],
      "execution_count": 10,
      "outputs": [
        {
          "output_type": "display_data",
          "data": {
            "image/png": "[encoded data removed]",
            "text/plain": [
              "<Figure size 432x288 with 1 Axes>"
            ]
          },
          "metadata": {
            "tags": []
          }
        },
        {
          "output_type": "stream",
          "text": [
            "\tRed dots indicate the actual values in the test set\n",
            "\tGreen line denotes the predicted regression line\n",
            "\n",
            "\tMean_absolute_error : 4.301209060884168\n",
            "\tMean_squared_error : 39.26068740616176\n",
            "\tRoot mean_squared_error : 6.2658349328849825\n",
            "\tR-squared measure : 0.48121747837672224\n"
          ],
          "name": "stdout"
        }
      ]
    },
    {
      "cell_type": "code",
      "metadata": {
        "id": "CDWDuEE6ajs4",
        "colab_type": "code",
        "colab": {}
      },
      "source": [
        ""
      ],
      "execution_count": 0,
      "outputs": []
    }
  ]
}